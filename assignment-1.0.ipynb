{
 "cells": [
  {
   "cell_type": "markdown",
   "metadata": {
    "collapsed": true
   },
   "source": [
    "# Assignment 1 #\n"
   ]
  },
  {
   "cell_type": "markdown",
   "metadata": {
    "collapsed": true
   },
   "source": [
    "** Import libraries ** "
   ]
  },
  {
   "cell_type": "code",
   "execution_count": 45,
   "metadata": {
    "collapsed": true
   },
   "outputs": [],
   "source": [
    "import numpy as np\n",
    "import pandas as pd\n",
    "import matplotlib.pyplot as plt\n",
    "import seaborn as sns\n",
    "from numpy import genfromtxt\n",
    "import csv\n"
   ]
  },
  {
   "cell_type": "markdown",
   "metadata": {},
   "source": [
    "** Import CSV data into a Pandas dataframe ** "
   ]
  },
  {
   "cell_type": "code",
   "execution_count": 46,
   "metadata": {
    "collapsed": true
   },
   "outputs": [],
   "source": [
    "df = pd.read_csv(\"/Users/joanhealy1/Documents/GMIT-semester-2/data-analysis-assignment-1/anscombes-quartet.csv\")\n"
   ]
  },
  {
   "cell_type": "code",
   "execution_count": 28,
   "metadata": {},
   "outputs": [
    {
     "data": {
      "text/html": [
       "<div>\n",
       "<style>\n",
       "    .dataframe thead tr:only-child th {\n",
       "        text-align: right;\n",
       "    }\n",
       "\n",
       "    .dataframe thead th {\n",
       "        text-align: left;\n",
       "    }\n",
       "\n",
       "    .dataframe tbody tr th {\n",
       "        vertical-align: top;\n",
       "    }\n",
       "</style>\n",
       "<table border=\"1\" class=\"dataframe\">\n",
       "  <thead>\n",
       "    <tr style=\"text-align: right;\">\n",
       "      <th></th>\n",
       "      <th>id</th>\n",
       "      <th>dataset</th>\n",
       "      <th>x</th>\n",
       "      <th>y</th>\n",
       "    </tr>\n",
       "  </thead>\n",
       "  <tbody>\n",
       "    <tr>\n",
       "      <th>0</th>\n",
       "      <td>0</td>\n",
       "      <td>I</td>\n",
       "      <td>10.0</td>\n",
       "      <td>8.04</td>\n",
       "    </tr>\n",
       "    <tr>\n",
       "      <th>1</th>\n",
       "      <td>1</td>\n",
       "      <td>I</td>\n",
       "      <td>8.0</td>\n",
       "      <td>6.95</td>\n",
       "    </tr>\n",
       "    <tr>\n",
       "      <th>2</th>\n",
       "      <td>2</td>\n",
       "      <td>I</td>\n",
       "      <td>13.0</td>\n",
       "      <td>7.58</td>\n",
       "    </tr>\n",
       "    <tr>\n",
       "      <th>3</th>\n",
       "      <td>3</td>\n",
       "      <td>I</td>\n",
       "      <td>9.0</td>\n",
       "      <td>8.81</td>\n",
       "    </tr>\n",
       "    <tr>\n",
       "      <th>4</th>\n",
       "      <td>4</td>\n",
       "      <td>I</td>\n",
       "      <td>11.0</td>\n",
       "      <td>8.33</td>\n",
       "    </tr>\n",
       "  </tbody>\n",
       "</table>\n",
       "</div>"
      ],
      "text/plain": [
       "  id dataset     x     y\n",
       "0  0       I  10.0  8.04\n",
       "1  1       I   8.0  6.95\n",
       "2  2       I  13.0  7.58\n",
       "3  3       I   9.0  8.81\n",
       "4  4       I  11.0  8.33"
      ]
     },
     "execution_count": 28,
     "metadata": {},
     "output_type": "execute_result"
    }
   ],
   "source": [
    "df.head()"
   ]
  },
  {
   "cell_type": "code",
   "execution_count": 19,
   "metadata": {},
   "outputs": [
    {
     "data": {
      "text/html": [
       "<div>\n",
       "<style>\n",
       "    .dataframe thead tr:only-child th {\n",
       "        text-align: right;\n",
       "    }\n",
       "\n",
       "    .dataframe thead th {\n",
       "        text-align: left;\n",
       "    }\n",
       "\n",
       "    .dataframe tbody tr th {\n",
       "        vertical-align: top;\n",
       "    }\n",
       "</style>\n",
       "<table border=\"1\" class=\"dataframe\">\n",
       "  <thead>\n",
       "    <tr style=\"text-align: right;\">\n",
       "      <th></th>\n",
       "      <th>id</th>\n",
       "      <th>dataset</th>\n",
       "      <th>x</th>\n",
       "      <th>y</th>\n",
       "    </tr>\n",
       "  </thead>\n",
       "  <tbody>\n",
       "    <tr>\n",
       "      <th>40</th>\n",
       "      <td>40</td>\n",
       "      <td>IV</td>\n",
       "      <td>19.0</td>\n",
       "      <td>12.50</td>\n",
       "    </tr>\n",
       "    <tr>\n",
       "      <th>41</th>\n",
       "      <td>41</td>\n",
       "      <td>IV</td>\n",
       "      <td>8.0</td>\n",
       "      <td>5.56</td>\n",
       "    </tr>\n",
       "    <tr>\n",
       "      <th>42</th>\n",
       "      <td>42</td>\n",
       "      <td>IV</td>\n",
       "      <td>8.0</td>\n",
       "      <td>7.91</td>\n",
       "    </tr>\n",
       "    <tr>\n",
       "      <th>43</th>\n",
       "      <td>43</td>\n",
       "      <td>IV</td>\n",
       "      <td>8.0</td>\n",
       "      <td>6.89</td>\n",
       "    </tr>\n",
       "    <tr>\n",
       "      <th>44</th>\n",
       "      <td>}</td>\n",
       "      <td>NaN</td>\n",
       "      <td>NaN</td>\n",
       "      <td>NaN</td>\n",
       "    </tr>\n",
       "  </tbody>\n",
       "</table>\n",
       "</div>"
      ],
      "text/plain": [
       "    id dataset     x      y\n",
       "40  40      IV  19.0  12.50\n",
       "41  41      IV   8.0   5.56\n",
       "42  42      IV   8.0   7.91\n",
       "43  43      IV   8.0   6.89\n",
       "44   }     NaN   NaN    NaN"
      ]
     },
     "execution_count": 19,
     "metadata": {},
     "output_type": "execute_result"
    }
   ],
   "source": [
    "df.tail()"
   ]
  },
  {
   "cell_type": "code",
   "execution_count": 20,
   "metadata": {},
   "outputs": [
    {
     "data": {
      "text/html": [
       "<div>\n",
       "<style>\n",
       "    .dataframe thead tr:only-child th {\n",
       "        text-align: right;\n",
       "    }\n",
       "\n",
       "    .dataframe thead th {\n",
       "        text-align: left;\n",
       "    }\n",
       "\n",
       "    .dataframe tbody tr th {\n",
       "        vertical-align: top;\n",
       "    }\n",
       "</style>\n",
       "<table border=\"1\" class=\"dataframe\">\n",
       "  <thead>\n",
       "    <tr style=\"text-align: right;\">\n",
       "      <th></th>\n",
       "      <th>x</th>\n",
       "      <th>y</th>\n",
       "    </tr>\n",
       "  </thead>\n",
       "  <tbody>\n",
       "    <tr>\n",
       "      <th>count</th>\n",
       "      <td>44.000000</td>\n",
       "      <td>44.000000</td>\n",
       "    </tr>\n",
       "    <tr>\n",
       "      <th>mean</th>\n",
       "      <td>9.000000</td>\n",
       "      <td>7.500682</td>\n",
       "    </tr>\n",
       "    <tr>\n",
       "      <th>std</th>\n",
       "      <td>3.198837</td>\n",
       "      <td>1.958925</td>\n",
       "    </tr>\n",
       "    <tr>\n",
       "      <th>min</th>\n",
       "      <td>4.000000</td>\n",
       "      <td>3.100000</td>\n",
       "    </tr>\n",
       "    <tr>\n",
       "      <th>25%</th>\n",
       "      <td>7.000000</td>\n",
       "      <td>6.117500</td>\n",
       "    </tr>\n",
       "    <tr>\n",
       "      <th>50%</th>\n",
       "      <td>8.000000</td>\n",
       "      <td>7.520000</td>\n",
       "    </tr>\n",
       "    <tr>\n",
       "      <th>75%</th>\n",
       "      <td>11.000000</td>\n",
       "      <td>8.747500</td>\n",
       "    </tr>\n",
       "    <tr>\n",
       "      <th>max</th>\n",
       "      <td>19.000000</td>\n",
       "      <td>12.740000</td>\n",
       "    </tr>\n",
       "  </tbody>\n",
       "</table>\n",
       "</div>"
      ],
      "text/plain": [
       "               x          y\n",
       "count  44.000000  44.000000\n",
       "mean    9.000000   7.500682\n",
       "std     3.198837   1.958925\n",
       "min     4.000000   3.100000\n",
       "25%     7.000000   6.117500\n",
       "50%     8.000000   7.520000\n",
       "75%    11.000000   8.747500\n",
       "max    19.000000  12.740000"
      ]
     },
     "execution_count": 20,
     "metadata": {},
     "output_type": "execute_result"
    }
   ],
   "source": [
    "df.describe()"
   ]
  },
  {
   "cell_type": "code",
   "execution_count": 28,
   "metadata": {},
   "outputs": [
    {
     "data": {
      "text/plain": [
       "<seaborn.axisgrid.PairGrid at 0x1a20584e10>"
      ]
     },
     "execution_count": 28,
     "metadata": {},
     "output_type": "execute_result"
    }
   ],
   "source": [
    "sns.pairplot(df, hue=\"dataset\")"
   ]
  },
  {
   "cell_type": "code",
   "execution_count": 21,
   "metadata": {},
   "outputs": [
    {
     "data": {
      "text/plain": [
       "x    9.000000\n",
       "y    7.500682\n",
       "dtype: float64"
      ]
     },
     "execution_count": 21,
     "metadata": {},
     "output_type": "execute_result"
    }
   ],
   "source": [
    "df.mean()\n"
   ]
  },
  {
   "cell_type": "code",
   "execution_count": 34,
   "metadata": {},
   "outputs": [
    {
     "name": "stdout",
     "output_type": "stream",
     "text": [
      "0     10.0\n",
      "1      8.0\n",
      "2     13.0\n",
      "3      9.0\n",
      "4     11.0\n",
      "5     14.0\n",
      "6      6.0\n",
      "7      4.0\n",
      "8     12.0\n",
      "9      7.0\n",
      "10     5.0\n",
      "11    10.0\n",
      "12     8.0\n",
      "13    13.0\n",
      "14     9.0\n",
      "15    11.0\n",
      "16    14.0\n",
      "17     6.0\n",
      "18     4.0\n",
      "19    12.0\n",
      "20     7.0\n",
      "21     5.0\n",
      "22    10.0\n",
      "23     8.0\n",
      "24    13.0\n",
      "25     9.0\n",
      "26    11.0\n",
      "27    14.0\n",
      "28     6.0\n",
      "29     4.0\n",
      "30    12.0\n",
      "31     7.0\n",
      "32     5.0\n",
      "33     8.0\n",
      "34     8.0\n",
      "35     8.0\n",
      "36     8.0\n",
      "37     8.0\n",
      "38     8.0\n",
      "39     8.0\n",
      "40    19.0\n",
      "41     8.0\n",
      "42     8.0\n",
      "43     8.0\n",
      "44     NaN\n",
      "Name: x, dtype: float64\n"
     ]
    }
   ],
   "source": [
    "print(df['x'])"
   ]
  },
  {
   "cell_type": "code",
   "execution_count": 50,
   "metadata": {},
   "outputs": [
    {
     "name": "stdout",
     "output_type": "stream",
     "text": [
      "I\n",
      "I\n",
      "I\n",
      "I\n",
      "I\n",
      "I\n",
      "I\n",
      "I\n",
      "I\n",
      "I\n",
      "I\n",
      "II\n",
      "II\n",
      "II\n",
      "II\n",
      "II\n",
      "II\n",
      "II\n",
      "II\n",
      "II\n",
      "II\n",
      "II\n",
      "III\n",
      "III\n",
      "III\n",
      "III\n",
      "III\n",
      "III\n",
      "III\n",
      "III\n",
      "III\n",
      "III\n",
      "III\n",
      "IV\n",
      "IV\n",
      "IV\n",
      "IV\n",
      "IV\n",
      "IV\n",
      "IV\n",
      "IV\n",
      "IV\n",
      "IV\n",
      "IV\n",
      "nan\n"
     ]
    }
   ],
   "source": [
    "newDf = []\n",
    "for each in df['dataset']:\n",
    "    print(each)\n",
    "    "
   ]
  },
  {
   "cell_type": "code",
   "execution_count": 57,
   "metadata": {},
   "outputs": [
    {
     "name": "stdout",
     "output_type": "stream",
     "text": [
      "10.0 8.04 I\n",
      "0\n",
      "8.0 6.95 I\n",
      "1\n",
      "13.0 7.58 I\n",
      "2\n",
      "9.0 8.81 I\n",
      "3\n",
      "11.0 8.33 I\n",
      "4\n",
      "14.0 9.96 I\n",
      "5\n",
      "6.0 7.24 I\n",
      "6\n",
      "4.0 4.26 I\n",
      "7\n",
      "12.0 10.84 I\n",
      "8\n",
      "7.0 4.82 I\n",
      "9\n",
      "5.0 5.68 I\n",
      "10\n",
      "10.0 9.14 II\n",
      "11\n",
      "8.0 8.14 II\n",
      "12\n",
      "13.0 8.74 II\n",
      "13\n",
      "9.0 8.77 II\n",
      "14\n",
      "11.0 9.26 II\n",
      "15\n",
      "14.0 8.1 II\n",
      "16\n",
      "6.0 6.13 II\n",
      "17\n",
      "4.0 3.1 II\n",
      "18\n",
      "12.0 9.13 II\n",
      "19\n",
      "7.0 7.26 II\n",
      "20\n",
      "5.0 4.74 II\n",
      "21\n",
      "10.0 7.46 III\n",
      "22\n",
      "8.0 6.77 III\n",
      "23\n",
      "13.0 12.74 III\n",
      "24\n",
      "9.0 7.11 III\n",
      "25\n",
      "11.0 7.81 III\n",
      "26\n",
      "14.0 8.84 III\n",
      "27\n",
      "6.0 6.08 III\n",
      "28\n",
      "4.0 5.39 III\n",
      "29\n",
      "12.0 8.15 III\n",
      "30\n",
      "7.0 6.42 III\n",
      "31\n",
      "5.0 5.73 III\n",
      "32\n",
      "8.0 6.58 IV\n",
      "33\n",
      "8.0 5.76 IV\n",
      "34\n",
      "8.0 7.71 IV\n",
      "35\n",
      "8.0 8.84 IV\n",
      "36\n",
      "8.0 8.47 IV\n",
      "37\n",
      "8.0 7.04 IV\n",
      "38\n",
      "8.0 5.25 IV\n",
      "39\n",
      "19.0 12.5 IV\n",
      "40\n",
      "8.0 5.56 IV\n",
      "41\n",
      "8.0 7.91 IV\n",
      "42\n",
      "8.0 6.89 IV\n",
      "43\n",
      "nan nan nan\n",
      "44\n"
     ]
    }
   ],
   "source": [
    "for index, row in df.iterrows():\n",
    "    print(row['x'], row['y'], row['dataset'])\n",
    "    print(index)\n",
    "    "
   ]
  },
  {
   "cell_type": "code",
   "execution_count": 31,
   "metadata": {
    "collapsed": true
   },
   "outputs": [],
   "source": [
    "my_data = genfromtxt('/Users/joanhealy1/Documents/GMIT-semester-2/data-analysis-assignment-1/anscombes-quartet.csv', delimiter=',')"
   ]
  },
  {
   "cell_type": "code",
   "execution_count": null,
   "metadata": {
    "collapsed": true
   },
   "outputs": [],
   "source": []
  },
  {
   "cell_type": "code",
   "execution_count": 5,
   "metadata": {},
   "outputs": [
    {
     "name": "stdout",
     "output_type": "stream",
     "text": [
      "[[   nan    nan    nan    nan]\n",
      " [  0.      nan  10.     8.04]\n",
      " [  1.      nan   8.     6.95]\n",
      " [  2.      nan  13.     7.58]\n",
      " [  3.      nan   9.     8.81]\n",
      " [  4.      nan  11.     8.33]\n",
      " [  5.      nan  14.     9.96]\n",
      " [  6.      nan   6.     7.24]\n",
      " [  7.      nan   4.     4.26]\n",
      " [  8.      nan  12.    10.84]\n",
      " [  9.      nan   7.     4.82]\n",
      " [ 10.      nan   5.     5.68]\n",
      " [ 11.      nan  10.     9.14]\n",
      " [ 12.      nan   8.     8.14]\n",
      " [ 13.      nan  13.     8.74]\n",
      " [ 14.      nan   9.     8.77]\n",
      " [ 15.      nan  11.     9.26]\n",
      " [ 16.      nan  14.     8.1 ]\n",
      " [ 17.      nan   6.     6.13]\n",
      " [ 18.      nan   4.     3.1 ]\n",
      " [ 19.      nan  12.     9.13]\n",
      " [ 20.      nan   7.     7.26]\n",
      " [ 21.      nan   5.     4.74]\n",
      " [ 22.      nan  10.     7.46]\n",
      " [ 23.      nan   8.     6.77]\n",
      " [ 24.      nan  13.    12.74]\n",
      " [ 25.      nan   9.     7.11]\n",
      " [ 26.      nan  11.     7.81]\n",
      " [ 27.      nan  14.     8.84]\n",
      " [ 28.      nan   6.     6.08]\n",
      " [ 29.      nan   4.     5.39]\n",
      " [ 30.      nan  12.     8.15]\n",
      " [ 31.      nan   7.     6.42]\n",
      " [ 32.      nan   5.     5.73]\n",
      " [ 33.      nan   8.     6.58]\n",
      " [ 34.      nan   8.     5.76]\n",
      " [ 35.      nan   8.     7.71]\n",
      " [ 36.      nan   8.     8.84]\n",
      " [ 37.      nan   8.     8.47]\n",
      " [ 38.      nan   8.     7.04]\n",
      " [ 39.      nan   8.     5.25]\n",
      " [ 40.      nan  19.    12.5 ]\n",
      " [ 41.      nan   8.     5.56]\n",
      " [ 42.      nan   8.     7.91]\n",
      " [ 43.      nan   8.     6.89]\n",
      " [   nan    nan    nan    nan]]\n"
     ]
    }
   ],
   "source": [
    "print(my_data)"
   ]
  },
  {
   "cell_type": "markdown",
   "metadata": {
    "collapsed": true
   },
   "source": [
    "1. Explain the background to the dataset – who created it, when it was created, and any speculation you can find regarding how it might have been created.\n",
    "2. Plot the interesting aspects of the dataset.\n",
    "3. Calculate the descriptive statistics of the variables in the dataset.\n",
    "4. Explain why the dataset is interesting, referring to the plots and statistics above."
   ]
  },
  {
   "cell_type": "code",
   "execution_count": 6,
   "metadata": {},
   "outputs": [
    {
     "name": "stdout",
     "output_type": "stream",
     "text": [
      "[ nan  nan  nan  nan]\n",
      "[  0.      nan  10.     8.04]\n",
      "[ 1.     nan  8.    6.95]\n",
      "[  2.      nan  13.     7.58]\n",
      "[ 3.     nan  9.    8.81]\n",
      "[  4.      nan  11.     8.33]\n",
      "[  5.      nan  14.     9.96]\n",
      "[ 6.     nan  6.    7.24]\n",
      "[ 7.     nan  4.    4.26]\n",
      "[  8.      nan  12.    10.84]\n",
      "[ 9.     nan  7.    4.82]\n",
      "[ 10.      nan   5.     5.68]\n",
      "[ 11.      nan  10.     9.14]\n",
      "[ 12.      nan   8.     8.14]\n",
      "[ 13.      nan  13.     8.74]\n",
      "[ 14.      nan   9.     8.77]\n",
      "[ 15.      nan  11.     9.26]\n",
      "[ 16.    nan  14.    8.1]\n",
      "[ 17.      nan   6.     6.13]\n",
      "[ 18.    nan   4.    3.1]\n",
      "[ 19.      nan  12.     9.13]\n",
      "[ 20.      nan   7.     7.26]\n",
      "[ 21.      nan   5.     4.74]\n",
      "[ 22.      nan  10.     7.46]\n",
      "[ 23.      nan   8.     6.77]\n",
      "[ 24.      nan  13.    12.74]\n",
      "[ 25.      nan   9.     7.11]\n",
      "[ 26.      nan  11.     7.81]\n",
      "[ 27.      nan  14.     8.84]\n",
      "[ 28.      nan   6.     6.08]\n",
      "[ 29.      nan   4.     5.39]\n",
      "[ 30.      nan  12.     8.15]\n",
      "[ 31.      nan   7.     6.42]\n",
      "[ 32.      nan   5.     5.73]\n",
      "[ 33.      nan   8.     6.58]\n",
      "[ 34.      nan   8.     5.76]\n",
      "[ 35.      nan   8.     7.71]\n",
      "[ 36.      nan   8.     8.84]\n",
      "[ 37.      nan   8.     8.47]\n",
      "[ 38.      nan   8.     7.04]\n",
      "[ 39.      nan   8.     5.25]\n",
      "[ 40.    nan  19.   12.5]\n",
      "[ 41.      nan   8.     5.56]\n",
      "[ 42.      nan   8.     7.91]\n",
      "[ 43.      nan   8.     6.89]\n",
      "[ nan  nan  nan  nan]\n"
     ]
    }
   ],
   "source": [
    "for each in my_data:\n",
    "    print(each)"
   ]
  },
  {
   "cell_type": "code",
   "execution_count": 21,
   "metadata": {},
   "outputs": [
    {
     "name": "stdout",
     "output_type": "stream",
     "text": [
      "<_csv.reader object at 0x1a08c54ba8>\n",
      "['id', 'dataset', 'x', 'y']\n",
      "['0', 'I', '10', '8.04']\n",
      "['1', 'I', '8', '6.95']\n",
      "['2', 'I', '13', '7.58']\n",
      "['3', 'I', '9', '8.81']\n",
      "['4', 'I', '11', '8.33']\n",
      "['5', 'I', '14', '9.96']\n",
      "['6', 'I', '6', '7.24']\n",
      "['7', 'I', '4', '4.26']\n",
      "['8', 'I', '12', '10.84']\n",
      "['9', 'I', '7', '4.82']\n",
      "['10', 'I', '5', '5.68']\n",
      "['11', 'II', '10', '9.14']\n",
      "['12', 'II', '8', '8.14']\n",
      "['13', 'II', '13', '8.74']\n",
      "['14', 'II', '9', '8.77']\n",
      "['15', 'II', '11', '9.26']\n",
      "['16', 'II', '14', '8.1']\n",
      "['17', 'II', '6', '6.13']\n",
      "['18', 'II', '4', '3.1']\n",
      "['19', 'II', '12', '9.13']\n",
      "['20', 'II', '7', '7.26']\n",
      "['21', 'II', '5', '4.74']\n",
      "['22', 'III', '10', '7.46']\n",
      "['23', 'III', '8', '6.77']\n",
      "['24', 'III', '13', '12.74']\n",
      "['25', 'III', '9', '7.11']\n",
      "['26', 'III', '11', '7.81']\n",
      "['27', 'III', '14', '8.84']\n",
      "['28', 'III', '6', '6.08']\n",
      "['29', 'III', '4', '5.39']\n",
      "['30', 'III', '12', '8.15']\n",
      "['31', 'III', '7', '6.42']\n",
      "['32', 'III', '5', '5.73']\n",
      "['33', 'IV', '8', '6.58']\n",
      "['34', 'IV', '8', '5.76']\n",
      "['35', 'IV', '8', '7.71']\n",
      "['36', 'IV', '8', '8.84']\n",
      "['37', 'IV', '8', '8.47']\n",
      "['38', 'IV', '8', '7.04']\n",
      "['39', 'IV', '8', '5.25']\n",
      "['40', 'IV', '19', '12.5']\n",
      "['41', 'IV', '8', '5.56']\n",
      "['42', 'IV', '8', '7.91']\n",
      "['43', 'IV', '8', '6.89']\n",
      "['}', '', '', '']\n"
     ]
    }
   ],
   "source": [
    "with open('/Users/joanhealy1/Documents/GMIT-semester-2/data-analysis-assignment-1/anscombes-quartet.csv', 'rt') as csvfile:\n",
    "    csvdata = csv.reader(csvfile, delimiter=',')\n",
    "    print(csvdata)    \n",
    "    for each in csvdata:\n",
    "        print(each)\n",
    "    "
   ]
  },
  {
   "cell_type": "code",
   "execution_count": null,
   "metadata": {
    "collapsed": true
   },
   "outputs": [],
   "source": []
  }
 ],
 "metadata": {
  "kernelspec": {
   "display_name": "Python 3",
   "language": "python",
   "name": "python3"
  },
  "language_info": {
   "codemirror_mode": {
    "name": "ipython",
    "version": 3
   },
   "file_extension": ".py",
   "mimetype": "text/x-python",
   "name": "python",
   "nbconvert_exporter": "python",
   "pygments_lexer": "ipython3",
   "version": "3.6.3"
  }
 },
 "nbformat": 4,
 "nbformat_minor": 2
}
