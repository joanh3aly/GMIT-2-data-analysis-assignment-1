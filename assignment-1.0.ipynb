{
 "cells": [
  {
   "cell_type": "markdown",
   "metadata": {
    "collapsed": true
   },
   "source": [
    "# Exploration of Anscombe's Quartet #\n"
   ]
  },
  {
   "cell_type": "markdown",
   "metadata": {},
   "source": [
    "Anscombe's Quartet consists of 4 different datasets that when modelled statistically have very similar outcomes, yet when graphed they look very different. Anscombe created this dataset to highlight how important it is for statisticians to visualise their data in order to demonstrate the significance of outliers on a statistical calculation. He also wanted to disprove the notion of some mathematicians of the time, who believed that statistics were an accurate reflection of the data, yet graphs just showed a rough estimate.[1]\n",
    "\n",
    "The 4 datasets were created in 1973 by Francis Anscombe. Anscombe was an English statistician who studied and lectured in Cambridge University, and moved to Princeton university in 1956. He was a pioneer of statistical computing and published a textbook on the statistical programming language APL.[2]\n",
    "\n",
    "My speculation as to how the quartet of data was created, is that Anscombe drew the data points on each graph, he decided on the mean for the datasets (9 and 7.5 for x and y respectively) and then 'reverse engineered' the x and y coords for the outlier variable for each set of data points using basic algebra.\n",
    "\n",
    "The mean is the sum of variables divided by the number of variables: mean = sum/number. The outlier could be calculated by multiplying the number of variables with the mean and subtracting the sum of the variables (basic algebra).  \n",
    "**outlier coordinate = mean * number - sum**\n",
    "\n",
    "See section 136 below for a working version of this.\n"
   ]
  },
  {
   "cell_type": "markdown",
   "metadata": {},
   "source": [
    "This dataset is interesting because each of the datasets are completely different when graphed.   \n",
    "\n",
    "The first dataset shows a linear relationship where the datapoints show a correlation to each other (as x gets bigger, y gets bigger accordingly). There don't appear to be any major outliers in this dataset.\n",
    "The data points in the second dataset show a correlation, however it is not linear.\n",
    "The 3rd dataset shows a linear correllation, however the outlier completely skews the slope, mean and other statistical calculations.\n",
    "There appears to be no relationship between the variables of the 4th dataset, and again the slope and other stats are only equal to the other datasets because of the one outlier in the top right corner. "
   ]
  },
  {
   "cell_type": "markdown",
   "metadata": {},
   "source": [
    "1. Explain the background to the dataset – who created it, when it was created, and any speculation you can find regarding how it might have been created.\n",
    "2. Plot the interesting aspects of the dataset.\n",
    "3. Calculate the descriptive statistics of the variables in the dataset.\n",
    "4. Explain why the dataset is interesting, referring to the plots and statistics above."
   ]
  },
  {
   "cell_type": "markdown",
   "metadata": {
    "collapsed": true
   },
   "source": [
    "** Import libraries ** "
   ]
  },
  {
   "cell_type": "code",
   "execution_count": 2,
   "metadata": {
    "collapsed": true
   },
   "outputs": [],
   "source": [
    "import numpy as np\n",
    "import pandas as pd\n",
    "import matplotlib.pyplot as plt\n",
    "import seaborn as sns\n",
    "from numpy import genfromtxt\n",
    "import csv\n",
    "\n",
    "%matplotlib inline\n"
   ]
  },
  {
   "cell_type": "markdown",
   "metadata": {},
   "source": [
    "** Import CSV data into a Pandas dataframe ** "
   ]
  },
  {
   "cell_type": "code",
   "execution_count": 3,
   "metadata": {
    "collapsed": true
   },
   "outputs": [],
   "source": [
    "df = pd.read_csv(\"/Users/joanhealy1/Documents/GMIT-semester-2/data-analysis-assignment-1/anscombes-quartet.csv\")\n"
   ]
  },
  {
   "cell_type": "code",
   "execution_count": 4,
   "metadata": {},
   "outputs": [
    {
     "data": {
      "text/html": [
       "<div>\n",
       "<style>\n",
       "    .dataframe thead tr:only-child th {\n",
       "        text-align: right;\n",
       "    }\n",
       "\n",
       "    .dataframe thead th {\n",
       "        text-align: left;\n",
       "    }\n",
       "\n",
       "    .dataframe tbody tr th {\n",
       "        vertical-align: top;\n",
       "    }\n",
       "</style>\n",
       "<table border=\"1\" class=\"dataframe\">\n",
       "  <thead>\n",
       "    <tr style=\"text-align: right;\">\n",
       "      <th></th>\n",
       "      <th>id</th>\n",
       "      <th>dataset</th>\n",
       "      <th>x</th>\n",
       "      <th>y</th>\n",
       "    </tr>\n",
       "  </thead>\n",
       "  <tbody>\n",
       "    <tr>\n",
       "      <th>0</th>\n",
       "      <td>0</td>\n",
       "      <td>I</td>\n",
       "      <td>10.0</td>\n",
       "      <td>8.04</td>\n",
       "    </tr>\n",
       "    <tr>\n",
       "      <th>1</th>\n",
       "      <td>1</td>\n",
       "      <td>I</td>\n",
       "      <td>8.0</td>\n",
       "      <td>6.95</td>\n",
       "    </tr>\n",
       "    <tr>\n",
       "      <th>2</th>\n",
       "      <td>2</td>\n",
       "      <td>I</td>\n",
       "      <td>13.0</td>\n",
       "      <td>7.58</td>\n",
       "    </tr>\n",
       "    <tr>\n",
       "      <th>3</th>\n",
       "      <td>3</td>\n",
       "      <td>I</td>\n",
       "      <td>9.0</td>\n",
       "      <td>8.81</td>\n",
       "    </tr>\n",
       "    <tr>\n",
       "      <th>4</th>\n",
       "      <td>4</td>\n",
       "      <td>I</td>\n",
       "      <td>11.0</td>\n",
       "      <td>8.33</td>\n",
       "    </tr>\n",
       "  </tbody>\n",
       "</table>\n",
       "</div>"
      ],
      "text/plain": [
       "  id dataset     x     y\n",
       "0  0       I  10.0  8.04\n",
       "1  1       I   8.0  6.95\n",
       "2  2       I  13.0  7.58\n",
       "3  3       I   9.0  8.81\n",
       "4  4       I  11.0  8.33"
      ]
     },
     "execution_count": 4,
     "metadata": {},
     "output_type": "execute_result"
    }
   ],
   "source": [
    "df.head()"
   ]
  },
  {
   "cell_type": "code",
   "execution_count": 5,
   "metadata": {},
   "outputs": [
    {
     "data": {
      "text/html": [
       "<div>\n",
       "<style>\n",
       "    .dataframe thead tr:only-child th {\n",
       "        text-align: right;\n",
       "    }\n",
       "\n",
       "    .dataframe thead th {\n",
       "        text-align: left;\n",
       "    }\n",
       "\n",
       "    .dataframe tbody tr th {\n",
       "        vertical-align: top;\n",
       "    }\n",
       "</style>\n",
       "<table border=\"1\" class=\"dataframe\">\n",
       "  <thead>\n",
       "    <tr style=\"text-align: right;\">\n",
       "      <th></th>\n",
       "      <th>id</th>\n",
       "      <th>dataset</th>\n",
       "      <th>x</th>\n",
       "      <th>y</th>\n",
       "    </tr>\n",
       "  </thead>\n",
       "  <tbody>\n",
       "    <tr>\n",
       "      <th>40</th>\n",
       "      <td>40</td>\n",
       "      <td>IV</td>\n",
       "      <td>19.0</td>\n",
       "      <td>12.50</td>\n",
       "    </tr>\n",
       "    <tr>\n",
       "      <th>41</th>\n",
       "      <td>41</td>\n",
       "      <td>IV</td>\n",
       "      <td>8.0</td>\n",
       "      <td>5.56</td>\n",
       "    </tr>\n",
       "    <tr>\n",
       "      <th>42</th>\n",
       "      <td>42</td>\n",
       "      <td>IV</td>\n",
       "      <td>8.0</td>\n",
       "      <td>7.91</td>\n",
       "    </tr>\n",
       "    <tr>\n",
       "      <th>43</th>\n",
       "      <td>43</td>\n",
       "      <td>IV</td>\n",
       "      <td>8.0</td>\n",
       "      <td>6.89</td>\n",
       "    </tr>\n",
       "    <tr>\n",
       "      <th>44</th>\n",
       "      <td>}</td>\n",
       "      <td>NaN</td>\n",
       "      <td>NaN</td>\n",
       "      <td>NaN</td>\n",
       "    </tr>\n",
       "  </tbody>\n",
       "</table>\n",
       "</div>"
      ],
      "text/plain": [
       "    id dataset     x      y\n",
       "40  40      IV  19.0  12.50\n",
       "41  41      IV   8.0   5.56\n",
       "42  42      IV   8.0   7.91\n",
       "43  43      IV   8.0   6.89\n",
       "44   }     NaN   NaN    NaN"
      ]
     },
     "execution_count": 5,
     "metadata": {},
     "output_type": "execute_result"
    }
   ],
   "source": [
    "df.tail()"
   ]
  },
  {
   "cell_type": "markdown",
   "metadata": {},
   "source": [
    "### Some descriptive statistics on the whole dataset (inc 1 -> 4)###"
   ]
  },
  {
   "cell_type": "code",
   "execution_count": 6,
   "metadata": {},
   "outputs": [
    {
     "data": {
      "text/html": [
       "<div>\n",
       "<style>\n",
       "    .dataframe thead tr:only-child th {\n",
       "        text-align: right;\n",
       "    }\n",
       "\n",
       "    .dataframe thead th {\n",
       "        text-align: left;\n",
       "    }\n",
       "\n",
       "    .dataframe tbody tr th {\n",
       "        vertical-align: top;\n",
       "    }\n",
       "</style>\n",
       "<table border=\"1\" class=\"dataframe\">\n",
       "  <thead>\n",
       "    <tr style=\"text-align: right;\">\n",
       "      <th></th>\n",
       "      <th>x</th>\n",
       "      <th>y</th>\n",
       "    </tr>\n",
       "  </thead>\n",
       "  <tbody>\n",
       "    <tr>\n",
       "      <th>count</th>\n",
       "      <td>44.000000</td>\n",
       "      <td>44.000000</td>\n",
       "    </tr>\n",
       "    <tr>\n",
       "      <th>mean</th>\n",
       "      <td>9.000000</td>\n",
       "      <td>7.500682</td>\n",
       "    </tr>\n",
       "    <tr>\n",
       "      <th>std</th>\n",
       "      <td>3.198837</td>\n",
       "      <td>1.958925</td>\n",
       "    </tr>\n",
       "    <tr>\n",
       "      <th>min</th>\n",
       "      <td>4.000000</td>\n",
       "      <td>3.100000</td>\n",
       "    </tr>\n",
       "    <tr>\n",
       "      <th>25%</th>\n",
       "      <td>7.000000</td>\n",
       "      <td>6.117500</td>\n",
       "    </tr>\n",
       "    <tr>\n",
       "      <th>50%</th>\n",
       "      <td>8.000000</td>\n",
       "      <td>7.520000</td>\n",
       "    </tr>\n",
       "    <tr>\n",
       "      <th>75%</th>\n",
       "      <td>11.000000</td>\n",
       "      <td>8.747500</td>\n",
       "    </tr>\n",
       "    <tr>\n",
       "      <th>max</th>\n",
       "      <td>19.000000</td>\n",
       "      <td>12.740000</td>\n",
       "    </tr>\n",
       "  </tbody>\n",
       "</table>\n",
       "</div>"
      ],
      "text/plain": [
       "               x          y\n",
       "count  44.000000  44.000000\n",
       "mean    9.000000   7.500682\n",
       "std     3.198837   1.958925\n",
       "min     4.000000   3.100000\n",
       "25%     7.000000   6.117500\n",
       "50%     8.000000   7.520000\n",
       "75%    11.000000   8.747500\n",
       "max    19.000000  12.740000"
      ]
     },
     "execution_count": 6,
     "metadata": {},
     "output_type": "execute_result"
    }
   ],
   "source": [
    "df.describe()"
   ]
  },
  {
   "cell_type": "code",
   "execution_count": 7,
   "metadata": {},
   "outputs": [
    {
     "data": {
      "text/plain": [
       "x    9.000000\n",
       "y    7.500682\n",
       "dtype: float64"
      ]
     },
     "execution_count": 7,
     "metadata": {},
     "output_type": "execute_result"
    }
   ],
   "source": [
    "df.mean()"
   ]
  },
  {
   "cell_type": "markdown",
   "metadata": {},
   "source": [
    "### Using Seaborn to graph the 4 datasets ###"
   ]
  },
  {
   "cell_type": "code",
   "execution_count": 8,
   "metadata": {},
   "outputs": [
    {
     "data": {
      "text/plain": [
       "<seaborn.axisgrid.PairGrid at 0x107909438>"
      ]
     },
     "execution_count": 8,
     "metadata": {},
     "output_type": "execute_result"
    },
    {
     "data": {
      "image/png": "[encoded data removed]",
      "text/plain": [
       "<matplotlib.figure.Figure at 0x107909748>"
      ]
     },
     "metadata": {},
     "output_type": "display_data"
    }
   ],
   "source": [
    "sns.pairplot(df, hue=\"dataset\")"
   ]
  },
  {
   "cell_type": "markdown",
   "metadata": {},
   "source": [
    "** Just some experiments into getting the data I want **"
   ]
  },
  {
   "cell_type": "code",
   "execution_count": 9,
   "metadata": {
    "collapsed": true
   },
   "outputs": [],
   "source": [
    "my_data = genfromtxt('/Users/joanhealy1/Documents/GMIT-semester-2/data-analysis-assignment-1/anscombes-quartet.csv', delimiter=',')"
   ]
  },
  {
   "cell_type": "code",
   "execution_count": 10,
   "metadata": {},
   "outputs": [
    {
     "name": "stdout",
     "output_type": "stream",
     "text": [
      "[ nan  nan  nan  nan]\n",
      "[  0.      nan  10.     8.04]\n",
      "[ 1.     nan  8.    6.95]\n",
      "[  2.      nan  13.     7.58]\n",
      "[ 3.     nan  9.    8.81]\n",
      "[  4.      nan  11.     8.33]\n",
      "[  5.      nan  14.     9.96]\n",
      "[ 6.     nan  6.    7.24]\n",
      "[ 7.     nan  4.    4.26]\n",
      "[  8.      nan  12.    10.84]\n",
      "[ 9.     nan  7.    4.82]\n",
      "[ 10.      nan   5.     5.68]\n",
      "[ 11.      nan  10.     9.14]\n",
      "[ 12.      nan   8.     8.14]\n",
      "[ 13.      nan  13.     8.74]\n",
      "[ 14.      nan   9.     8.77]\n",
      "[ 15.      nan  11.     9.26]\n",
      "[ 16.    nan  14.    8.1]\n",
      "[ 17.      nan   6.     6.13]\n",
      "[ 18.    nan   4.    3.1]\n",
      "[ 19.      nan  12.     9.13]\n",
      "[ 20.      nan   7.     7.26]\n",
      "[ 21.      nan   5.     4.74]\n",
      "[ 22.      nan  10.     7.46]\n",
      "[ 23.      nan   8.     6.77]\n",
      "[ 24.      nan  13.    12.74]\n",
      "[ 25.      nan   9.     7.11]\n",
      "[ 26.      nan  11.     7.81]\n",
      "[ 27.      nan  14.     8.84]\n",
      "[ 28.      nan   6.     6.08]\n",
      "[ 29.      nan   4.     5.39]\n",
      "[ 30.      nan  12.     8.15]\n",
      "[ 31.      nan   7.     6.42]\n",
      "[ 32.      nan   5.     5.73]\n",
      "[ 33.      nan   8.     6.58]\n",
      "[ 34.      nan   8.     5.76]\n",
      "[ 35.      nan   8.     7.71]\n",
      "[ 36.      nan   8.     8.84]\n",
      "[ 37.      nan   8.     8.47]\n",
      "[ 38.      nan   8.     7.04]\n",
      "[ 39.      nan   8.     5.25]\n",
      "[ 40.    nan  19.   12.5]\n",
      "[ 41.      nan   8.     5.56]\n",
      "[ 42.      nan   8.     7.91]\n",
      "[ 43.      nan   8.     6.89]\n",
      "[ nan  nan  nan  nan]\n"
     ]
    }
   ],
   "source": [
    "for each in my_data:\n",
    "    print(each)"
   ]
  },
  {
   "cell_type": "code",
   "execution_count": 11,
   "metadata": {},
   "outputs": [
    {
     "data": {
      "text/plain": [
       "0     10.0\n",
       "1      8.0\n",
       "2     13.0\n",
       "3      9.0\n",
       "4     11.0\n",
       "5     14.0\n",
       "6      6.0\n",
       "7      4.0\n",
       "8     12.0\n",
       "9      7.0\n",
       "10     5.0\n",
       "11    10.0\n",
       "12     8.0\n",
       "13    13.0\n",
       "14     9.0\n",
       "15    11.0\n",
       "16    14.0\n",
       "17     6.0\n",
       "18     4.0\n",
       "19    12.0\n",
       "20     7.0\n",
       "21     5.0\n",
       "22    10.0\n",
       "23     8.0\n",
       "24    13.0\n",
       "25     9.0\n",
       "26    11.0\n",
       "27    14.0\n",
       "28     6.0\n",
       "29     4.0\n",
       "30    12.0\n",
       "31     7.0\n",
       "32     5.0\n",
       "33     8.0\n",
       "34     8.0\n",
       "35     8.0\n",
       "36     8.0\n",
       "37     8.0\n",
       "38     8.0\n",
       "39     8.0\n",
       "40    19.0\n",
       "41     8.0\n",
       "42     8.0\n",
       "43     8.0\n",
       "44     NaN\n",
       "Name: x, dtype: float64"
      ]
     },
     "execution_count": 11,
     "metadata": {},
     "output_type": "execute_result"
    }
   ],
   "source": [
    "df.loc[:,'x']"
   ]
  },
  {
   "cell_type": "code",
   "execution_count": 12,
   "metadata": {},
   "outputs": [
    {
     "name": "stdout",
     "output_type": "stream",
     "text": [
      "10.0 8.04 I\n",
      "0\n",
      "8.0 6.95 I\n",
      "1\n",
      "13.0 7.58 I\n",
      "2\n",
      "9.0 8.81 I\n",
      "3\n",
      "11.0 8.33 I\n",
      "4\n",
      "14.0 9.96 I\n",
      "5\n",
      "6.0 7.24 I\n",
      "6\n",
      "4.0 4.26 I\n",
      "7\n",
      "12.0 10.84 I\n",
      "8\n",
      "7.0 4.82 I\n",
      "9\n",
      "5.0 5.68 I\n",
      "10\n",
      "10.0 9.14 II\n",
      "11\n",
      "8.0 8.14 II\n",
      "12\n",
      "13.0 8.74 II\n",
      "13\n",
      "9.0 8.77 II\n",
      "14\n",
      "11.0 9.26 II\n",
      "15\n",
      "14.0 8.1 II\n",
      "16\n",
      "6.0 6.13 II\n",
      "17\n",
      "4.0 3.1 II\n",
      "18\n",
      "12.0 9.13 II\n",
      "19\n",
      "7.0 7.26 II\n",
      "20\n",
      "5.0 4.74 II\n",
      "21\n",
      "10.0 7.46 III\n",
      "22\n",
      "8.0 6.77 III\n",
      "23\n",
      "13.0 12.74 III\n",
      "24\n",
      "9.0 7.11 III\n",
      "25\n",
      "11.0 7.81 III\n",
      "26\n",
      "14.0 8.84 III\n",
      "27\n",
      "6.0 6.08 III\n",
      "28\n",
      "4.0 5.39 III\n",
      "29\n",
      "12.0 8.15 III\n",
      "30\n",
      "7.0 6.42 III\n",
      "31\n",
      "5.0 5.73 III\n",
      "32\n",
      "8.0 6.58 IV\n",
      "33\n",
      "8.0 5.76 IV\n",
      "34\n",
      "8.0 7.71 IV\n",
      "35\n",
      "8.0 8.84 IV\n",
      "36\n",
      "8.0 8.47 IV\n",
      "37\n",
      "8.0 7.04 IV\n",
      "38\n",
      "8.0 5.25 IV\n",
      "39\n",
      "19.0 12.5 IV\n",
      "40\n",
      "8.0 5.56 IV\n",
      "41\n",
      "8.0 7.91 IV\n",
      "42\n",
      "8.0 6.89 IV\n",
      "43\n",
      "nan nan nan\n",
      "44\n"
     ]
    }
   ],
   "source": [
    "for index, row in df.iterrows():\n",
    "    print(row['x'], row['y'], row['dataset'])\n",
    "    print(index)"
   ]
  },
  {
   "cell_type": "markdown",
   "metadata": {},
   "source": [
    "## Pulling out the datasets separately so that they can be plotted individually and stats can be calculated on the first dataset. ##"
   ]
  },
  {
   "cell_type": "markdown",
   "metadata": {},
   "source": [
    "### Dataset 1 ###"
   ]
  },
  {
   "cell_type": "code",
   "execution_count": 13,
   "metadata": {},
   "outputs": [
    {
     "name": "stdout",
     "output_type": "stream",
     "text": [
      "0 10.0 8.04\n",
      "1 8.0 6.95\n",
      "2 13.0 7.58\n",
      "3 9.0 8.81\n",
      "4 11.0 8.33\n",
      "5 14.0 9.96\n",
      "6 6.0 7.24\n",
      "7 4.0 4.26\n",
      "8 12.0 10.84\n",
      "9 7.0 4.82\n",
      "10 5.0 5.68\n",
      "[10.0, 8.04]\n"
     ]
    },
    {
     "data": {
      "text/plain": [
       "list"
      ]
     },
     "execution_count": 13,
     "metadata": {},
     "output_type": "execute_result"
    }
   ],
   "source": [
    "I = []\n",
    "\n",
    "for index, row in df.iterrows():\n",
    "    if row['dataset'] == 'I':\n",
    "        print(row['id'],row['x'],row['y'])\n",
    "        I.append([row['x'],row['y']])\n",
    "        \n",
    "print(I[0])        \n",
    "\n",
    "type(I[0])"
   ]
  },
  {
   "cell_type": "code",
   "execution_count": 14,
   "metadata": {
    "collapsed": true
   },
   "outputs": [],
   "source": [
    "dfI = pd.DataFrame(I,columns=['x', 'y'])"
   ]
  },
  {
   "cell_type": "code",
   "execution_count": 15,
   "metadata": {},
   "outputs": [
    {
     "data": {
      "image/png": "[encoded data removed]",
      "text/plain": [
       "<matplotlib.figure.Figure at 0x1a1092ba90>"
      ]
     },
     "metadata": {},
     "output_type": "display_data"
    }
   ],
   "source": [
    "ax1 = dfI.plot.scatter(x='x',y='y')"
   ]
  },
  {
   "cell_type": "code",
   "execution_count": 16,
   "metadata": {},
   "outputs": [
    {
     "data": {
      "text/html": [
       "<div>\n",
       "<style>\n",
       "    .dataframe thead tr:only-child th {\n",
       "        text-align: right;\n",
       "    }\n",
       "\n",
       "    .dataframe thead th {\n",
       "        text-align: left;\n",
       "    }\n",
       "\n",
       "    .dataframe tbody tr th {\n",
       "        vertical-align: top;\n",
       "    }\n",
       "</style>\n",
       "<table border=\"1\" class=\"dataframe\">\n",
       "  <thead>\n",
       "    <tr style=\"text-align: right;\">\n",
       "      <th></th>\n",
       "      <th>x</th>\n",
       "      <th>y</th>\n",
       "    </tr>\n",
       "  </thead>\n",
       "  <tbody>\n",
       "    <tr>\n",
       "      <th>count</th>\n",
       "      <td>11.000000</td>\n",
       "      <td>11.000000</td>\n",
       "    </tr>\n",
       "    <tr>\n",
       "      <th>mean</th>\n",
       "      <td>9.000000</td>\n",
       "      <td>7.500909</td>\n",
       "    </tr>\n",
       "    <tr>\n",
       "      <th>std</th>\n",
       "      <td>3.316625</td>\n",
       "      <td>2.031568</td>\n",
       "    </tr>\n",
       "    <tr>\n",
       "      <th>min</th>\n",
       "      <td>4.000000</td>\n",
       "      <td>4.260000</td>\n",
       "    </tr>\n",
       "    <tr>\n",
       "      <th>25%</th>\n",
       "      <td>6.500000</td>\n",
       "      <td>6.315000</td>\n",
       "    </tr>\n",
       "    <tr>\n",
       "      <th>50%</th>\n",
       "      <td>9.000000</td>\n",
       "      <td>7.580000</td>\n",
       "    </tr>\n",
       "    <tr>\n",
       "      <th>75%</th>\n",
       "      <td>11.500000</td>\n",
       "      <td>8.570000</td>\n",
       "    </tr>\n",
       "    <tr>\n",
       "      <th>max</th>\n",
       "      <td>14.000000</td>\n",
       "      <td>10.840000</td>\n",
       "    </tr>\n",
       "  </tbody>\n",
       "</table>\n",
       "</div>"
      ],
      "text/plain": [
       "               x          y\n",
       "count  11.000000  11.000000\n",
       "mean    9.000000   7.500909\n",
       "std     3.316625   2.031568\n",
       "min     4.000000   4.260000\n",
       "25%     6.500000   6.315000\n",
       "50%     9.000000   7.580000\n",
       "75%    11.500000   8.570000\n",
       "max    14.000000  10.840000"
      ]
     },
     "execution_count": 16,
     "metadata": {},
     "output_type": "execute_result"
    }
   ],
   "source": [
    "dfI.describe()"
   ]
  },
  {
   "cell_type": "code",
   "execution_count": 17,
   "metadata": {},
   "outputs": [
    {
     "name": "stdout",
     "output_type": "stream",
     "text": [
      "0     10.0\n",
      "1      8.0\n",
      "2     13.0\n",
      "3      9.0\n",
      "4     11.0\n",
      "5     14.0\n",
      "6      6.0\n",
      "7      4.0\n",
      "8     12.0\n",
      "9      7.0\n",
      "10     5.0\n",
      "Name: x, dtype: float64\n",
      "0      8.04\n",
      "1      6.95\n",
      "2      7.58\n",
      "3      8.81\n",
      "4      8.33\n",
      "5      9.96\n",
      "6      7.24\n",
      "7      4.26\n",
      "8     10.84\n",
      "9      4.82\n",
      "10     5.68\n",
      "Name: y, dtype: float64\n",
      "mean x: 9.0\n",
      "variance x: 11.0\n",
      "mean y: 7.500909090909093\n",
      "variance y: 4.127269090909091\n"
     ]
    }
   ],
   "source": [
    "print(dfI['x'])\n",
    "print(dfI['y'])\n",
    "print('mean x:', dfI['x'].mean())\n",
    "print('variance x:', dfI['x'].var())\n",
    "print('mean y:', dfI['y'].mean())\n",
    "print('variance y:', dfI['y'].var())\n"
   ]
  },
  {
   "cell_type": "markdown",
   "metadata": {},
   "source": [
    "** Using the method from the lecture notes to calculate the slope of the line **"
   ]
  },
  {
   "cell_type": "code",
   "execution_count": 18,
   "metadata": {},
   "outputs": [
    {
     "name": "stdout",
     "output_type": "stream",
     "text": [
      "m is 0.500091 and c is 3.000091.\n"
     ]
    }
   ],
   "source": [
    "x = dfI['x']\n",
    "y = dfI['y']\n",
    "\n",
    "x_avg = np.mean(x)\n",
    "y_avg = np.mean(y)\n",
    "\n",
    "x_zero = x - x_avg\n",
    "y_zero = y - y_avg\n",
    "\n",
    "m = np.sum(x_zero * y_zero) / np.sum(x_zero * x_zero)\n",
    "c = y_avg - m * x_avg\n",
    "\n",
    "print(\"m is %8.6f and c is %6.6f.\" % (m, c))"
   ]
  },
  {
   "cell_type": "markdown",
   "metadata": {},
   "source": [
    "** Plugging the slope into the equation y = mx + c to plot the linear regression line ** "
   ]
  },
  {
   "cell_type": "code",
   "execution_count": 19,
   "metadata": {},
   "outputs": [
    {
     "data": {
      "image/png": "[encoded data removed]",
      "text/plain": [
       "<matplotlib.figure.Figure at 0x1a10a0b470>"
      ]
     },
     "metadata": {},
     "output_type": "display_data"
    }
   ],
   "source": [
    "plt.plot(x, y, 'k.', label=\"Data\")\n",
    "\n",
    "plt.plot(x, m * x + c, 'r-', label=r\"$.mx + c$\")\n",
    "\n",
    "plt.legend()\n",
    "\n",
    "plt.xlabel('x')\n",
    "plt.ylabel('y')\n",
    "\n",
    "plt.show()"
   ]
  },
  {
   "cell_type": "markdown",
   "metadata": {},
   "source": [
    "## Getting the individual datasets using loc to create graphs and calculate statistics on datasets 2 -> 4 ##"
   ]
  },
  {
   "cell_type": "markdown",
   "metadata": {},
   "source": [
    "### Dataset 2 ###"
   ]
  },
  {
   "cell_type": "code",
   "execution_count": 20,
   "metadata": {},
   "outputs": [
    {
     "name": "stdout",
     "output_type": "stream",
     "text": [
      "    id dataset     x     y\n",
      "11  11      II  10.0  9.14\n",
      "12  12      II   8.0  8.14\n",
      "13  13      II  13.0  8.74\n",
      "14  14      II   9.0  8.77\n",
      "15  15      II  11.0  9.26\n",
      "16  16      II  14.0  8.10\n",
      "17  17      II   6.0  6.13\n",
      "18  18      II   4.0  3.10\n",
      "19  19      II  12.0  9.13\n",
      "20  20      II   7.0  7.26\n",
      "21  21      II   5.0  4.74\n"
     ]
    },
    {
     "data": {
      "image/png": "[encoded data removed]",
      "text/plain": [
       "<matplotlib.figure.Figure at 0x1a10a75be0>"
      ]
     },
     "metadata": {},
     "output_type": "display_data"
    }
   ],
   "source": [
    "dfII = df.loc[df['dataset']=='II']\n",
    "ax1 = dfII.plot.scatter(x='x',y='y')\n",
    "print(dfII)"
   ]
  },
  {
   "cell_type": "code",
   "execution_count": 21,
   "metadata": {},
   "outputs": [
    {
     "data": {
      "text/html": [
       "<div>\n",
       "<style>\n",
       "    .dataframe thead tr:only-child th {\n",
       "        text-align: right;\n",
       "    }\n",
       "\n",
       "    .dataframe thead th {\n",
       "        text-align: left;\n",
       "    }\n",
       "\n",
       "    .dataframe tbody tr th {\n",
       "        vertical-align: top;\n",
       "    }\n",
       "</style>\n",
       "<table border=\"1\" class=\"dataframe\">\n",
       "  <thead>\n",
       "    <tr style=\"text-align: right;\">\n",
       "      <th></th>\n",
       "      <th>x</th>\n",
       "      <th>y</th>\n",
       "    </tr>\n",
       "  </thead>\n",
       "  <tbody>\n",
       "    <tr>\n",
       "      <th>count</th>\n",
       "      <td>11.000000</td>\n",
       "      <td>11.000000</td>\n",
       "    </tr>\n",
       "    <tr>\n",
       "      <th>mean</th>\n",
       "      <td>9.000000</td>\n",
       "      <td>7.500909</td>\n",
       "    </tr>\n",
       "    <tr>\n",
       "      <th>std</th>\n",
       "      <td>3.316625</td>\n",
       "      <td>2.031657</td>\n",
       "    </tr>\n",
       "    <tr>\n",
       "      <th>min</th>\n",
       "      <td>4.000000</td>\n",
       "      <td>3.100000</td>\n",
       "    </tr>\n",
       "    <tr>\n",
       "      <th>25%</th>\n",
       "      <td>6.500000</td>\n",
       "      <td>6.695000</td>\n",
       "    </tr>\n",
       "    <tr>\n",
       "      <th>50%</th>\n",
       "      <td>9.000000</td>\n",
       "      <td>8.140000</td>\n",
       "    </tr>\n",
       "    <tr>\n",
       "      <th>75%</th>\n",
       "      <td>11.500000</td>\n",
       "      <td>8.950000</td>\n",
       "    </tr>\n",
       "    <tr>\n",
       "      <th>max</th>\n",
       "      <td>14.000000</td>\n",
       "      <td>9.260000</td>\n",
       "    </tr>\n",
       "  </tbody>\n",
       "</table>\n",
       "</div>"
      ],
      "text/plain": [
       "               x          y\n",
       "count  11.000000  11.000000\n",
       "mean    9.000000   7.500909\n",
       "std     3.316625   2.031657\n",
       "min     4.000000   3.100000\n",
       "25%     6.500000   6.695000\n",
       "50%     9.000000   8.140000\n",
       "75%    11.500000   8.950000\n",
       "max    14.000000   9.260000"
      ]
     },
     "execution_count": 21,
     "metadata": {},
     "output_type": "execute_result"
    }
   ],
   "source": [
    "dfII.describe()"
   ]
  },
  {
   "cell_type": "code",
   "execution_count": 22,
   "metadata": {},
   "outputs": [
    {
     "name": "stdout",
     "output_type": "stream",
     "text": [
      "11    10.0\n",
      "12     8.0\n",
      "13    13.0\n",
      "14     9.0\n",
      "15    11.0\n",
      "16    14.0\n",
      "17     6.0\n",
      "18     4.0\n",
      "19    12.0\n",
      "20     7.0\n",
      "21     5.0\n",
      "Name: x, dtype: float64\n",
      "11    9.14\n",
      "12    8.14\n",
      "13    8.74\n",
      "14    8.77\n",
      "15    9.26\n",
      "16    8.10\n",
      "17    6.13\n",
      "18    3.10\n",
      "19    9.13\n",
      "20    7.26\n",
      "21    4.74\n",
      "Name: y, dtype: float64\n",
      "mean x: 9.0\n",
      "variance x: 11.0\n",
      "mean y: 7.500909090909091\n",
      "variance y: 4.127629090909091\n"
     ]
    }
   ],
   "source": [
    "print(dfII['x'])\n",
    "print(dfII['y'])\n",
    "print('mean x:', dfII['x'].mean())\n",
    "print('variance x:', dfII['x'].var())\n",
    "print('mean y:', dfII['y'].mean())\n",
    "print('variance y:', dfII['y'].var())\n"
   ]
  },
  {
   "cell_type": "markdown",
   "metadata": {},
   "source": [
    "** Using numpy's polyfit function to get the slope of the line instead of calculating manually **"
   ]
  },
  {
   "cell_type": "code",
   "execution_count": 23,
   "metadata": {},
   "outputs": [
    {
     "data": {
      "text/plain": [
       "0.50000000000000044"
      ]
     },
     "execution_count": 23,
     "metadata": {},
     "output_type": "execute_result"
    }
   ],
   "source": [
    "x2 = dfII['x']\n",
    "y2 = dfII['y']\n",
    "\n",
    "mclist2 = np.polyfit(x2, y2, 1)\n",
    "mclist2[0]"
   ]
  },
  {
   "cell_type": "markdown",
   "metadata": {},
   "source": [
    "** Plotting the linear regression line **"
   ]
  },
  {
   "cell_type": "code",
   "execution_count": 24,
   "metadata": {},
   "outputs": [
    {
     "data": {
      "image/png": "[encoded data removed]",
      "text/plain": [
       "<matplotlib.figure.Figure at 0x1a10bf3710>"
      ]
     },
     "metadata": {},
     "output_type": "display_data"
    }
   ],
   "source": [
    "plt.plot(x2, y2, 'k.', label=\"Data\")\n",
    "\n",
    "plt.plot(x2, mclist2[0] * x2 + mclist2[1], 'r-', label=r\"$.mx + c$\")\n",
    "\n",
    "plt.legend()\n",
    "\n",
    "plt.xlabel('x2')\n",
    "plt.ylabel('y2')\n",
    "\n",
    "plt.show()"
   ]
  },
  {
   "cell_type": "markdown",
   "metadata": {},
   "source": [
    "### Dataset 3 ###"
   ]
  },
  {
   "cell_type": "code",
   "execution_count": 25,
   "metadata": {},
   "outputs": [
    {
     "name": "stdout",
     "output_type": "stream",
     "text": [
      "    id dataset     x      y\n",
      "22  22     III  10.0   7.46\n",
      "23  23     III   8.0   6.77\n",
      "24  24     III  13.0  12.74\n",
      "25  25     III   9.0   7.11\n",
      "26  26     III  11.0   7.81\n",
      "27  27     III  14.0   8.84\n",
      "28  28     III   6.0   6.08\n",
      "29  29     III   4.0   5.39\n",
      "30  30     III  12.0   8.15\n",
      "31  31     III   7.0   6.42\n",
      "32  32     III   5.0   5.73\n"
     ]
    },
    {
     "data": {
      "image/png": "[encoded data removed]",
      "text/plain": [
       "<matplotlib.figure.Figure at 0x1a10c68898>"
      ]
     },
     "metadata": {},
     "output_type": "display_data"
    }
   ],
   "source": [
    "dfIII = df.loc[df['dataset']=='III']\n",
    "ax1 = dfIII.plot.scatter(x='x',y='y')\n",
    "print(dfIII)"
   ]
  },
  {
   "cell_type": "code",
   "execution_count": 26,
   "metadata": {},
   "outputs": [
    {
     "data": {
      "text/html": [
       "<div>\n",
       "<style>\n",
       "    .dataframe thead tr:only-child th {\n",
       "        text-align: right;\n",
       "    }\n",
       "\n",
       "    .dataframe thead th {\n",
       "        text-align: left;\n",
       "    }\n",
       "\n",
       "    .dataframe tbody tr th {\n",
       "        vertical-align: top;\n",
       "    }\n",
       "</style>\n",
       "<table border=\"1\" class=\"dataframe\">\n",
       "  <thead>\n",
       "    <tr style=\"text-align: right;\">\n",
       "      <th></th>\n",
       "      <th>x</th>\n",
       "      <th>y</th>\n",
       "    </tr>\n",
       "  </thead>\n",
       "  <tbody>\n",
       "    <tr>\n",
       "      <th>count</th>\n",
       "      <td>11.000000</td>\n",
       "      <td>11.000000</td>\n",
       "    </tr>\n",
       "    <tr>\n",
       "      <th>mean</th>\n",
       "      <td>9.000000</td>\n",
       "      <td>7.500000</td>\n",
       "    </tr>\n",
       "    <tr>\n",
       "      <th>std</th>\n",
       "      <td>3.316625</td>\n",
       "      <td>2.030424</td>\n",
       "    </tr>\n",
       "    <tr>\n",
       "      <th>min</th>\n",
       "      <td>4.000000</td>\n",
       "      <td>5.390000</td>\n",
       "    </tr>\n",
       "    <tr>\n",
       "      <th>25%</th>\n",
       "      <td>6.500000</td>\n",
       "      <td>6.250000</td>\n",
       "    </tr>\n",
       "    <tr>\n",
       "      <th>50%</th>\n",
       "      <td>9.000000</td>\n",
       "      <td>7.110000</td>\n",
       "    </tr>\n",
       "    <tr>\n",
       "      <th>75%</th>\n",
       "      <td>11.500000</td>\n",
       "      <td>7.980000</td>\n",
       "    </tr>\n",
       "    <tr>\n",
       "      <th>max</th>\n",
       "      <td>14.000000</td>\n",
       "      <td>12.740000</td>\n",
       "    </tr>\n",
       "  </tbody>\n",
       "</table>\n",
       "</div>"
      ],
      "text/plain": [
       "               x          y\n",
       "count  11.000000  11.000000\n",
       "mean    9.000000   7.500000\n",
       "std     3.316625   2.030424\n",
       "min     4.000000   5.390000\n",
       "25%     6.500000   6.250000\n",
       "50%     9.000000   7.110000\n",
       "75%    11.500000   7.980000\n",
       "max    14.000000  12.740000"
      ]
     },
     "execution_count": 26,
     "metadata": {},
     "output_type": "execute_result"
    }
   ],
   "source": [
    "dfIII.describe()"
   ]
  },
  {
   "cell_type": "code",
   "execution_count": 27,
   "metadata": {},
   "outputs": [
    {
     "name": "stdout",
     "output_type": "stream",
     "text": [
      "22    10.0\n",
      "23     8.0\n",
      "24    13.0\n",
      "25     9.0\n",
      "26    11.0\n",
      "27    14.0\n",
      "28     6.0\n",
      "29     4.0\n",
      "30    12.0\n",
      "31     7.0\n",
      "32     5.0\n",
      "Name: x, dtype: float64\n",
      "22     7.46\n",
      "23     6.77\n",
      "24    12.74\n",
      "25     7.11\n",
      "26     7.81\n",
      "27     8.84\n",
      "28     6.08\n",
      "29     5.39\n",
      "30     8.15\n",
      "31     6.42\n",
      "32     5.73\n",
      "Name: y, dtype: float64\n",
      "mean x: 9.0\n",
      "variance x: 11.0\n",
      "mean y: 7.500000000000001\n",
      "variance y: 4.12262\n"
     ]
    }
   ],
   "source": [
    "print(dfIII['x'])\n",
    "print(dfIII['y'])\n",
    "print('mean x:', dfIII['x'].mean())\n",
    "print('variance x:', dfIII['x'].var())\n",
    "print('mean y:', dfIII['y'].mean())\n",
    "print('variance y:', dfIII['y'].var())"
   ]
  },
  {
   "cell_type": "markdown",
   "metadata": {},
   "source": [
    "** Plotting the linear regression line **"
   ]
  },
  {
   "cell_type": "code",
   "execution_count": 28,
   "metadata": {},
   "outputs": [
    {
     "data": {
      "image/png": "[encoded data removed]",
      "text/plain": [
       "<matplotlib.figure.Figure at 0x1a1107b898>"
      ]
     },
     "metadata": {},
     "output_type": "display_data"
    }
   ],
   "source": [
    "x3 = dfIII['x']\n",
    "y3 = dfIII['y']\n",
    "\n",
    "mclist3 = np.polyfit(x3, y3, 1)\n",
    "\n",
    "plt.plot(x3, y3, 'k.', label=\"Data\")\n",
    "plt.plot(x3, mclist3[0] * x3 + mclist3[1], 'r-', label=r\"$.mx + c$\")\n",
    "\n",
    "plt.legend()\n",
    "\n",
    "plt.xlabel('x3')\n",
    "plt.ylabel('y3')\n",
    "\n",
    "plt.show()"
   ]
  },
  {
   "cell_type": "markdown",
   "metadata": {},
   "source": [
    "### Dataset 4 ###"
   ]
  },
  {
   "cell_type": "code",
   "execution_count": 29,
   "metadata": {},
   "outputs": [
    {
     "data": {
      "image/png": "[encoded data removed]",
      "text/plain": [
       "<matplotlib.figure.Figure at 0x1a10bd0b00>"
      ]
     },
     "metadata": {},
     "output_type": "display_data"
    }
   ],
   "source": [
    "dfIV = df.loc[df['dataset']=='IV']\n",
    "ax1 = dfIV.plot.scatter(x='x',y='y')"
   ]
  },
  {
   "cell_type": "code",
   "execution_count": 30,
   "metadata": {},
   "outputs": [
    {
     "data": {
      "text/html": [
       "<div>\n",
       "<style>\n",
       "    .dataframe thead tr:only-child th {\n",
       "        text-align: right;\n",
       "    }\n",
       "\n",
       "    .dataframe thead th {\n",
       "        text-align: left;\n",
       "    }\n",
       "\n",
       "    .dataframe tbody tr th {\n",
       "        vertical-align: top;\n",
       "    }\n",
       "</style>\n",
       "<table border=\"1\" class=\"dataframe\">\n",
       "  <thead>\n",
       "    <tr style=\"text-align: right;\">\n",
       "      <th></th>\n",
       "      <th>x</th>\n",
       "      <th>y</th>\n",
       "    </tr>\n",
       "  </thead>\n",
       "  <tbody>\n",
       "    <tr>\n",
       "      <th>count</th>\n",
       "      <td>11.000000</td>\n",
       "      <td>11.000000</td>\n",
       "    </tr>\n",
       "    <tr>\n",
       "      <th>mean</th>\n",
       "      <td>9.000000</td>\n",
       "      <td>7.500909</td>\n",
       "    </tr>\n",
       "    <tr>\n",
       "      <th>std</th>\n",
       "      <td>3.316625</td>\n",
       "      <td>2.030579</td>\n",
       "    </tr>\n",
       "    <tr>\n",
       "      <th>min</th>\n",
       "      <td>8.000000</td>\n",
       "      <td>5.250000</td>\n",
       "    </tr>\n",
       "    <tr>\n",
       "      <th>25%</th>\n",
       "      <td>8.000000</td>\n",
       "      <td>6.170000</td>\n",
       "    </tr>\n",
       "    <tr>\n",
       "      <th>50%</th>\n",
       "      <td>8.000000</td>\n",
       "      <td>7.040000</td>\n",
       "    </tr>\n",
       "    <tr>\n",
       "      <th>75%</th>\n",
       "      <td>8.000000</td>\n",
       "      <td>8.190000</td>\n",
       "    </tr>\n",
       "    <tr>\n",
       "      <th>max</th>\n",
       "      <td>19.000000</td>\n",
       "      <td>12.500000</td>\n",
       "    </tr>\n",
       "  </tbody>\n",
       "</table>\n",
       "</div>"
      ],
      "text/plain": [
       "               x          y\n",
       "count  11.000000  11.000000\n",
       "mean    9.000000   7.500909\n",
       "std     3.316625   2.030579\n",
       "min     8.000000   5.250000\n",
       "25%     8.000000   6.170000\n",
       "50%     8.000000   7.040000\n",
       "75%     8.000000   8.190000\n",
       "max    19.000000  12.500000"
      ]
     },
     "execution_count": 30,
     "metadata": {},
     "output_type": "execute_result"
    }
   ],
   "source": [
    "dfIV.describe()"
   ]
  },
  {
   "cell_type": "code",
   "execution_count": 31,
   "metadata": {},
   "outputs": [
    {
     "name": "stdout",
     "output_type": "stream",
     "text": [
      "33     8.0\n",
      "34     8.0\n",
      "35     8.0\n",
      "36     8.0\n",
      "37     8.0\n",
      "38     8.0\n",
      "39     8.0\n",
      "40    19.0\n",
      "41     8.0\n",
      "42     8.0\n",
      "43     8.0\n",
      "Name: x, dtype: float64\n",
      "33     6.58\n",
      "34     5.76\n",
      "35     7.71\n",
      "36     8.84\n",
      "37     8.47\n",
      "38     7.04\n",
      "39     5.25\n",
      "40    12.50\n",
      "41     5.56\n",
      "42     7.91\n",
      "43     6.89\n",
      "Name: y, dtype: float64\n",
      "mean x: 9.0\n",
      "variance x: 11.0\n",
      "mean y: 7.50090909090909\n",
      "variance y: 4.12324909090909\n"
     ]
    }
   ],
   "source": [
    "print(dfIV['x'])\n",
    "print(dfIV['y'])\n",
    "print('mean x:', dfIV['x'].mean())\n",
    "print('variance x:', dfIV['x'].var())\n",
    "print('mean y:', dfIV['y'].mean())\n",
    "print('variance y:', dfIV['y'].var())\n"
   ]
  },
  {
   "cell_type": "markdown",
   "metadata": {},
   "source": [
    "** Calculating the outliers from the 4th dataset from a given mean **"
   ]
  },
  {
   "cell_type": "code",
   "execution_count": 32,
   "metadata": {},
   "outputs": [
    {
     "name": "stdout",
     "output_type": "stream",
     "text": [
      "x_outlier 19.0\n",
      "y_outlier 12.5\n",
      "calculated_x_mean: 9.0\n",
      "x_mean_without_outlier: 6.27272727273\n",
      "y_mean_without_outlier: 5.36454545455\n",
      "calculated_x_outlier: 19.0\n"
     ]
    }
   ],
   "source": [
    "# From the dataset we can see that the outlier in this dataset is at id 40, as it's the only number that isn't 8.0\n",
    "x_outlier = dfIV['x'][40]\n",
    "y_outlier = dfIV['y'][40]\n",
    "print('x_outlier',x_outlier)\n",
    "print('y_outlier',y_outlier)\n",
    "\n",
    "# mean = sum of variables / number of variables\n",
    "calculated_x_mean = np.sum(dfIV['x'][:])/len(dfIV['x'])\n",
    "print('calculated_x_mean:', calculated_x_mean)\n",
    "\n",
    "# mean is the sum of all variables divided by the amount of variables, so to get the mean of the data without the outlier we subtract the outlier from the sum of the dataframe.\n",
    "# ... or mean = sum of variables - outlier / number of variables - 1\n",
    "x_mean_without_outlier = (np.sum(dfIV['x'][:])-dfIV['x'][40])/len(dfIV)-1\n",
    "print('x_mean_without_outlier:', x_mean_without_outlier)\n",
    "y_mean_without_outlier = (np.sum(dfIV['y'][:])-dfIV['y'][40])/len(dfIV)-1\n",
    "print('y_mean_without_outlier:', y_mean_without_outlier)\n",
    "\n",
    "# Using basic algebra, we can calculate the outlier's x coord as so: calculated_x_outlier = mean * (number of variables) - sum of variables not including the outlier \n",
    "calculated_x_outlier = calculated_x_mean * len(dfIV['x']) - (np.sum(dfIV['x'][:])-dfIV['x'][40])\n",
    "print('calculated_x_outlier:',calculated_x_outlier)\n"
   ]
  },
  {
   "cell_type": "markdown",
   "metadata": {},
   "source": [
    "** Plotting the linear regression line **"
   ]
  },
  {
   "cell_type": "code",
   "execution_count": 33,
   "metadata": {},
   "outputs": [
    {
     "data": {
      "image/png": "[encoded data removed]",
      "text/plain": [
       "<matplotlib.figure.Figure at 0x1a11086e80>"
      ]
     },
     "metadata": {},
     "output_type": "display_data"
    }
   ],
   "source": [
    "x4 = dfIV['x']\n",
    "y4 = dfIV['y']\n",
    "\n",
    "mclist4 = np.polyfit(x4, y4, 1)\n",
    "\n",
    "plt.plot(x4, y4, 'k.', label=\"Data\")\n",
    "plt.plot(x4, mclist4[0] * x4 + mclist4[1], 'r-', label=r\"$.mx + c$\")\n",
    "\n",
    "plt.legend()\n",
    "\n",
    "plt.xlabel('x4')\n",
    "plt.ylabel('y4')\n",
    "\n",
    "plt.show()"
   ]
  },
  {
   "cell_type": "markdown",
   "metadata": {
    "collapsed": true
   },
   "source": [
    "Bibliography:  \n",
    "1. https://en.wikipedia.org/wiki/Anscombe%27s_quartet    \n",
    "2. https://en.wikipedia.org/wiki/Frank_Anscombe\n",
    "3. https://matplotlib.org/api/_as_gen/matplotlib.pyplot.scatter.html  \n",
    "4. https://docs.scipy.org/doc/numpy-1.15.1/reference/generated/numpy.var.html  \n",
    "5. https://docs.scipy.org/doc/numpy-1.15.1/reference/generated/numpy.sum.html"
   ]
  }
 ],
 "metadata": {
  "kernelspec": {
   "display_name": "Python 3",
   "language": "python",
   "name": "python3"
  },
  "language_info": {
   "codemirror_mode": {
    "name": "ipython",
    "version": 3
   },
   "file_extension": ".py",
   "mimetype": "text/x-python",
   "name": "python",
   "nbconvert_exporter": "python",
   "pygments_lexer": "ipython3",
   "version": "3.6.3"
  }
 },
 "nbformat": 4,
 "nbformat_minor": 2
}
